{
  "nbformat": 4,
  "nbformat_minor": 0,
  "metadata": {
    "colab": {
      "provenance": [],
      "include_colab_link": true
    },
    "kernelspec": {
      "name": "python3",
      "display_name": "Python 3"
    }
  },
  "cells": [
    {
      "cell_type": "markdown",
      "metadata": {
        "id": "view-in-github",
        "colab_type": "text"
      },
      "source": [
        "<a href=\"https://colab.research.google.com/github/pq2312/Company-Classification-Based-On-Financial-Data/blob/main/Company_Classification_Based_On_Financial_Data.ipynb\" target=\"_parent\"><img src=\"https://colab.research.google.com/assets/colab-badge.svg\" alt=\"Open In Colab\"/></a>"
      ]
    },
    {
      "cell_type": "markdown",
      "metadata": {
        "id": "nKUup1uPKSW7"
      },
      "source": [
        "## Company Classification Based On Financial Data\n"
      ]
    },
    {
      "cell_type": "markdown",
      "source": [
        "**EXECUTIVE SUMMARY**\n",
        "\n",
        "The objective of this project is to develop a model capable of accurately classifying companies into their respective industries based on financial data. Utilizing a dataset sourced from Compustat, comprising financial information from 516 companies for the year 2022, the study encompasses four distinct industries: metal mining, manufacturing, retail, and software development. Seven key ratios have been incorporated into the dataset to facilitate classification.\n",
        "\n",
        "Throughout the project, four models were constructed and rigorously tested. Among these models, Model 2 emerges as the most promising candidate, employing three predictive variables—COGS, PPE, and ATR. Model 2 achieves an impressive accuracy rate of 74%, while maintaining simplicity through the utilization of a small number of variables. Conversely, the remaining models either demonstrate lower accuracy rates (Model 1 and 4) or exhibit increased complexity (Model 3, which incorporates four variables).\n",
        "\n",
        "From an accounting and finance standpoint, the selected ratios prove instrumental in effectively distinguishing between industries. For instance, in the software development sector, where services are predominant, lower levels of COGS and PPE are anticipated compared to other industries. Similarly, the retail industry typically operates with a faster revenue cycle and lower asset deployment in contrast to metal mining and manufacturing sectors.\n",
        "\n",
        "In conclusion, this project not only presents a successful application of machine learning techniques for industry classification based on financial data but also underscores the significance of tailored financial metrics in capturing the unique characteristics of diverse business sectors."
      ],
      "metadata": {
        "id": "moKdlYiqctcW"
      }
    },
    {
      "cell_type": "markdown",
      "metadata": {
        "id": "skjb_21SdsSS"
      },
      "source": [
        "## Step 1: Import Necessary Libraries andf Packages"
      ]
    },
    {
      "cell_type": "code",
      "metadata": {
        "id": "w5mM2jBxdvn0"
      },
      "source": [
        "# import libraries\n",
        "from google.colab import files\n",
        "import pandas as pd\n",
        "import numpy as np\n",
        "# libraries for plotting\n",
        "import matplotlib.pyplot as plt\n",
        "import seaborn as sns"
      ],
      "execution_count": null,
      "outputs": []
    },
    {
      "cell_type": "markdown",
      "source": [
        "## Step 2: Read file into Pandas DataFrame"
      ],
      "metadata": {
        "id": "IYQKXEunT2nM"
      }
    },
    {
      "cell_type": "code",
      "source": [
        "# store the dataset in \"assign1TuTh.csv\" as a panda dataframe named df\n",
        "df = pd.read_csv('assign1TuTh.csv')"
      ],
      "metadata": {
        "id": "ecztdmW0qDWc"
      },
      "execution_count": null,
      "outputs": []
    },
    {
      "cell_type": "code",
      "source": [
        "df.info()"
      ],
      "metadata": {
        "colab": {
          "base_uri": "https://localhost:8080/"
        },
        "id": "ldNxwDV_q3Fe",
        "outputId": "fbceba47-2afc-414b-c1b1-223249326581"
      },
      "execution_count": null,
      "outputs": [
        {
          "output_type": "stream",
          "name": "stdout",
          "text": [
            "<class 'pandas.core.frame.DataFrame'>\n",
            "RangeIndex: 516 entries, 0 to 515\n",
            "Data columns (total 9 columns):\n",
            " #   Column               Non-Null Count  Dtype  \n",
            "---  ------               --------------  -----  \n",
            " 0   ind                  516 non-null    int64  \n",
            " 1   ticker               516 non-null    object \n",
            " 2   COGS_Frac            516 non-null    float64\n",
            " 3   SGA_Frac             516 non-null    float64\n",
            " 4   Inventory_Assets     516 non-null    float64\n",
            " 5   PPE_Assets           516 non-null    float64\n",
            " 6   LongTermDebt_Assets  516 non-null    float64\n",
            " 7   ATR                  516 non-null    float64\n",
            " 8   log_Size             516 non-null    float64\n",
            "dtypes: float64(7), int64(1), object(1)\n",
            "memory usage: 36.4+ KB\n"
          ]
        }
      ]
    },
    {
      "cell_type": "markdown",
      "source": [
        "**Comments:** There is no \"N/A\" value in the dataset."
      ],
      "metadata": {
        "id": "clxBisjy_gMn"
      }
    },
    {
      "cell_type": "markdown",
      "source": [
        "## Step 3: Inspect the variables"
      ],
      "metadata": {
        "id": "rFniTsWhaPgp"
      }
    },
    {
      "cell_type": "code",
      "source": [
        "df.describe()"
      ],
      "metadata": {
        "colab": {
          "base_uri": "https://localhost:8080/",
          "height": 300
        },
        "id": "wLARMCmKrJJX",
        "outputId": "a02e584c-0cd7-4d5a-b20a-04f6451288d1"
      },
      "execution_count": null,
      "outputs": [
        {
          "output_type": "execute_result",
          "data": {
            "text/plain": [
              "              ind   COGS_Frac    SGA_Frac  Inventory_Assets  PPE_Assets  \\\n",
              "count  516.000000  516.000000  516.000000        516.000000  516.000000   \n",
              "mean     3.988372    0.591959    0.408041          0.115081    0.255780   \n",
              "std      2.135202    0.264087    0.264087          0.127293    0.246548   \n",
              "min      1.000000    0.001517    0.011377          0.000000    0.000000   \n",
              "25%      3.000000    0.386002    0.189835          0.008937    0.070039   \n",
              "50%      3.000000    0.662988    0.337012          0.075136    0.149917   \n",
              "75%      5.000000    0.810165    0.613998          0.183567    0.412352   \n",
              "max      7.000000    0.988623    0.998483          0.781892    0.951993   \n",
              "\n",
              "       LongTermDebt_Assets         ATR    log_Size  \n",
              "count           516.000000  516.000000  516.000000  \n",
              "mean              0.198428    0.907719    6.303572  \n",
              "std               0.244597    0.833978    2.537985  \n",
              "min               0.000000    0.000176   -3.170086  \n",
              "25%               0.021981    0.423760    4.742304  \n",
              "50%               0.138042    0.691966    6.543533  \n",
              "75%               0.292361    1.086648    8.096422  \n",
              "max               2.175809    4.862069   13.044780  "
            ],
            "text/html": [
              "\n",
              "  <div id=\"df-af1a29de-29a1-4e3b-a270-3fb6948c2004\" class=\"colab-df-container\">\n",
              "    <div>\n",
              "<style scoped>\n",
              "    .dataframe tbody tr th:only-of-type {\n",
              "        vertical-align: middle;\n",
              "    }\n",
              "\n",
              "    .dataframe tbody tr th {\n",
              "        vertical-align: top;\n",
              "    }\n",
              "\n",
              "    .dataframe thead th {\n",
              "        text-align: right;\n",
              "    }\n",
              "</style>\n",
              "<table border=\"1\" class=\"dataframe\">\n",
              "  <thead>\n",
              "    <tr style=\"text-align: right;\">\n",
              "      <th></th>\n",
              "      <th>ind</th>\n",
              "      <th>COGS_Frac</th>\n",
              "      <th>SGA_Frac</th>\n",
              "      <th>Inventory_Assets</th>\n",
              "      <th>PPE_Assets</th>\n",
              "      <th>LongTermDebt_Assets</th>\n",
              "      <th>ATR</th>\n",
              "      <th>log_Size</th>\n",
              "    </tr>\n",
              "  </thead>\n",
              "  <tbody>\n",
              "    <tr>\n",
              "      <th>count</th>\n",
              "      <td>516.000000</td>\n",
              "      <td>516.000000</td>\n",
              "      <td>516.000000</td>\n",
              "      <td>516.000000</td>\n",
              "      <td>516.000000</td>\n",
              "      <td>516.000000</td>\n",
              "      <td>516.000000</td>\n",
              "      <td>516.000000</td>\n",
              "    </tr>\n",
              "    <tr>\n",
              "      <th>mean</th>\n",
              "      <td>3.988372</td>\n",
              "      <td>0.591959</td>\n",
              "      <td>0.408041</td>\n",
              "      <td>0.115081</td>\n",
              "      <td>0.255780</td>\n",
              "      <td>0.198428</td>\n",
              "      <td>0.907719</td>\n",
              "      <td>6.303572</td>\n",
              "    </tr>\n",
              "    <tr>\n",
              "      <th>std</th>\n",
              "      <td>2.135202</td>\n",
              "      <td>0.264087</td>\n",
              "      <td>0.264087</td>\n",
              "      <td>0.127293</td>\n",
              "      <td>0.246548</td>\n",
              "      <td>0.244597</td>\n",
              "      <td>0.833978</td>\n",
              "      <td>2.537985</td>\n",
              "    </tr>\n",
              "    <tr>\n",
              "      <th>min</th>\n",
              "      <td>1.000000</td>\n",
              "      <td>0.001517</td>\n",
              "      <td>0.011377</td>\n",
              "      <td>0.000000</td>\n",
              "      <td>0.000000</td>\n",
              "      <td>0.000000</td>\n",
              "      <td>0.000176</td>\n",
              "      <td>-3.170086</td>\n",
              "    </tr>\n",
              "    <tr>\n",
              "      <th>25%</th>\n",
              "      <td>3.000000</td>\n",
              "      <td>0.386002</td>\n",
              "      <td>0.189835</td>\n",
              "      <td>0.008937</td>\n",
              "      <td>0.070039</td>\n",
              "      <td>0.021981</td>\n",
              "      <td>0.423760</td>\n",
              "      <td>4.742304</td>\n",
              "    </tr>\n",
              "    <tr>\n",
              "      <th>50%</th>\n",
              "      <td>3.000000</td>\n",
              "      <td>0.662988</td>\n",
              "      <td>0.337012</td>\n",
              "      <td>0.075136</td>\n",
              "      <td>0.149917</td>\n",
              "      <td>0.138042</td>\n",
              "      <td>0.691966</td>\n",
              "      <td>6.543533</td>\n",
              "    </tr>\n",
              "    <tr>\n",
              "      <th>75%</th>\n",
              "      <td>5.000000</td>\n",
              "      <td>0.810165</td>\n",
              "      <td>0.613998</td>\n",
              "      <td>0.183567</td>\n",
              "      <td>0.412352</td>\n",
              "      <td>0.292361</td>\n",
              "      <td>1.086648</td>\n",
              "      <td>8.096422</td>\n",
              "    </tr>\n",
              "    <tr>\n",
              "      <th>max</th>\n",
              "      <td>7.000000</td>\n",
              "      <td>0.988623</td>\n",
              "      <td>0.998483</td>\n",
              "      <td>0.781892</td>\n",
              "      <td>0.951993</td>\n",
              "      <td>2.175809</td>\n",
              "      <td>4.862069</td>\n",
              "      <td>13.044780</td>\n",
              "    </tr>\n",
              "  </tbody>\n",
              "</table>\n",
              "</div>\n",
              "    <div class=\"colab-df-buttons\">\n",
              "\n",
              "  <div class=\"colab-df-container\">\n",
              "    <button class=\"colab-df-convert\" onclick=\"convertToInteractive('df-af1a29de-29a1-4e3b-a270-3fb6948c2004')\"\n",
              "            title=\"Convert this dataframe to an interactive table.\"\n",
              "            style=\"display:none;\">\n",
              "\n",
              "  <svg xmlns=\"http://www.w3.org/2000/svg\" height=\"24px\" viewBox=\"0 -960 960 960\">\n",
              "    <path d=\"M120-120v-720h720v720H120Zm60-500h600v-160H180v160Zm220 220h160v-160H400v160Zm0 220h160v-160H400v160ZM180-400h160v-160H180v160Zm440 0h160v-160H620v160ZM180-180h160v-160H180v160Zm440 0h160v-160H620v160Z\"/>\n",
              "  </svg>\n",
              "    </button>\n",
              "\n",
              "  <style>\n",
              "    .colab-df-container {\n",
              "      display:flex;\n",
              "      gap: 12px;\n",
              "    }\n",
              "\n",
              "    .colab-df-convert {\n",
              "      background-color: #E8F0FE;\n",
              "      border: none;\n",
              "      border-radius: 50%;\n",
              "      cursor: pointer;\n",
              "      display: none;\n",
              "      fill: #1967D2;\n",
              "      height: 32px;\n",
              "      padding: 0 0 0 0;\n",
              "      width: 32px;\n",
              "    }\n",
              "\n",
              "    .colab-df-convert:hover {\n",
              "      background-color: #E2EBFA;\n",
              "      box-shadow: 0px 1px 2px rgba(60, 64, 67, 0.3), 0px 1px 3px 1px rgba(60, 64, 67, 0.15);\n",
              "      fill: #174EA6;\n",
              "    }\n",
              "\n",
              "    .colab-df-buttons div {\n",
              "      margin-bottom: 4px;\n",
              "    }\n",
              "\n",
              "    [theme=dark] .colab-df-convert {\n",
              "      background-color: #3B4455;\n",
              "      fill: #D2E3FC;\n",
              "    }\n",
              "\n",
              "    [theme=dark] .colab-df-convert:hover {\n",
              "      background-color: #434B5C;\n",
              "      box-shadow: 0px 1px 3px 1px rgba(0, 0, 0, 0.15);\n",
              "      filter: drop-shadow(0px 1px 2px rgba(0, 0, 0, 0.3));\n",
              "      fill: #FFFFFF;\n",
              "    }\n",
              "  </style>\n",
              "\n",
              "    <script>\n",
              "      const buttonEl =\n",
              "        document.querySelector('#df-af1a29de-29a1-4e3b-a270-3fb6948c2004 button.colab-df-convert');\n",
              "      buttonEl.style.display =\n",
              "        google.colab.kernel.accessAllowed ? 'block' : 'none';\n",
              "\n",
              "      async function convertToInteractive(key) {\n",
              "        const element = document.querySelector('#df-af1a29de-29a1-4e3b-a270-3fb6948c2004');\n",
              "        const dataTable =\n",
              "          await google.colab.kernel.invokeFunction('convertToInteractive',\n",
              "                                                    [key], {});\n",
              "        if (!dataTable) return;\n",
              "\n",
              "        const docLinkHtml = 'Like what you see? Visit the ' +\n",
              "          '<a target=\"_blank\" href=https://colab.research.google.com/notebooks/data_table.ipynb>data table notebook</a>'\n",
              "          + ' to learn more about interactive tables.';\n",
              "        element.innerHTML = '';\n",
              "        dataTable['output_type'] = 'display_data';\n",
              "        await google.colab.output.renderOutput(dataTable, element);\n",
              "        const docLink = document.createElement('div');\n",
              "        docLink.innerHTML = docLinkHtml;\n",
              "        element.appendChild(docLink);\n",
              "      }\n",
              "    </script>\n",
              "  </div>\n",
              "\n",
              "\n",
              "<div id=\"df-68c64831-fb9b-4196-9ead-ad77dd652531\">\n",
              "  <button class=\"colab-df-quickchart\" onclick=\"quickchart('df-68c64831-fb9b-4196-9ead-ad77dd652531')\"\n",
              "            title=\"Suggest charts\"\n",
              "            style=\"display:none;\">\n",
              "\n",
              "<svg xmlns=\"http://www.w3.org/2000/svg\" height=\"24px\"viewBox=\"0 0 24 24\"\n",
              "     width=\"24px\">\n",
              "    <g>\n",
              "        <path d=\"M19 3H5c-1.1 0-2 .9-2 2v14c0 1.1.9 2 2 2h14c1.1 0 2-.9 2-2V5c0-1.1-.9-2-2-2zM9 17H7v-7h2v7zm4 0h-2V7h2v10zm4 0h-2v-4h2v4z\"/>\n",
              "    </g>\n",
              "</svg>\n",
              "  </button>\n",
              "\n",
              "<style>\n",
              "  .colab-df-quickchart {\n",
              "      --bg-color: #E8F0FE;\n",
              "      --fill-color: #1967D2;\n",
              "      --hover-bg-color: #E2EBFA;\n",
              "      --hover-fill-color: #174EA6;\n",
              "      --disabled-fill-color: #AAA;\n",
              "      --disabled-bg-color: #DDD;\n",
              "  }\n",
              "\n",
              "  [theme=dark] .colab-df-quickchart {\n",
              "      --bg-color: #3B4455;\n",
              "      --fill-color: #D2E3FC;\n",
              "      --hover-bg-color: #434B5C;\n",
              "      --hover-fill-color: #FFFFFF;\n",
              "      --disabled-bg-color: #3B4455;\n",
              "      --disabled-fill-color: #666;\n",
              "  }\n",
              "\n",
              "  .colab-df-quickchart {\n",
              "    background-color: var(--bg-color);\n",
              "    border: none;\n",
              "    border-radius: 50%;\n",
              "    cursor: pointer;\n",
              "    display: none;\n",
              "    fill: var(--fill-color);\n",
              "    height: 32px;\n",
              "    padding: 0;\n",
              "    width: 32px;\n",
              "  }\n",
              "\n",
              "  .colab-df-quickchart:hover {\n",
              "    background-color: var(--hover-bg-color);\n",
              "    box-shadow: 0 1px 2px rgba(60, 64, 67, 0.3), 0 1px 3px 1px rgba(60, 64, 67, 0.15);\n",
              "    fill: var(--button-hover-fill-color);\n",
              "  }\n",
              "\n",
              "  .colab-df-quickchart-complete:disabled,\n",
              "  .colab-df-quickchart-complete:disabled:hover {\n",
              "    background-color: var(--disabled-bg-color);\n",
              "    fill: var(--disabled-fill-color);\n",
              "    box-shadow: none;\n",
              "  }\n",
              "\n",
              "  .colab-df-spinner {\n",
              "    border: 2px solid var(--fill-color);\n",
              "    border-color: transparent;\n",
              "    border-bottom-color: var(--fill-color);\n",
              "    animation:\n",
              "      spin 1s steps(1) infinite;\n",
              "  }\n",
              "\n",
              "  @keyframes spin {\n",
              "    0% {\n",
              "      border-color: transparent;\n",
              "      border-bottom-color: var(--fill-color);\n",
              "      border-left-color: var(--fill-color);\n",
              "    }\n",
              "    20% {\n",
              "      border-color: transparent;\n",
              "      border-left-color: var(--fill-color);\n",
              "      border-top-color: var(--fill-color);\n",
              "    }\n",
              "    30% {\n",
              "      border-color: transparent;\n",
              "      border-left-color: var(--fill-color);\n",
              "      border-top-color: var(--fill-color);\n",
              "      border-right-color: var(--fill-color);\n",
              "    }\n",
              "    40% {\n",
              "      border-color: transparent;\n",
              "      border-right-color: var(--fill-color);\n",
              "      border-top-color: var(--fill-color);\n",
              "    }\n",
              "    60% {\n",
              "      border-color: transparent;\n",
              "      border-right-color: var(--fill-color);\n",
              "    }\n",
              "    80% {\n",
              "      border-color: transparent;\n",
              "      border-right-color: var(--fill-color);\n",
              "      border-bottom-color: var(--fill-color);\n",
              "    }\n",
              "    90% {\n",
              "      border-color: transparent;\n",
              "      border-bottom-color: var(--fill-color);\n",
              "    }\n",
              "  }\n",
              "</style>\n",
              "\n",
              "  <script>\n",
              "    async function quickchart(key) {\n",
              "      const quickchartButtonEl =\n",
              "        document.querySelector('#' + key + ' button');\n",
              "      quickchartButtonEl.disabled = true;  // To prevent multiple clicks.\n",
              "      quickchartButtonEl.classList.add('colab-df-spinner');\n",
              "      try {\n",
              "        const charts = await google.colab.kernel.invokeFunction(\n",
              "            'suggestCharts', [key], {});\n",
              "      } catch (error) {\n",
              "        console.error('Error during call to suggestCharts:', error);\n",
              "      }\n",
              "      quickchartButtonEl.classList.remove('colab-df-spinner');\n",
              "      quickchartButtonEl.classList.add('colab-df-quickchart-complete');\n",
              "    }\n",
              "    (() => {\n",
              "      let quickchartButtonEl =\n",
              "        document.querySelector('#df-68c64831-fb9b-4196-9ead-ad77dd652531 button');\n",
              "      quickchartButtonEl.style.display =\n",
              "        google.colab.kernel.accessAllowed ? 'block' : 'none';\n",
              "    })();\n",
              "  </script>\n",
              "</div>\n",
              "    </div>\n",
              "  </div>\n"
            ],
            "application/vnd.google.colaboratory.intrinsic+json": {
              "type": "dataframe",
              "summary": "{\n  \"name\": \"df\",\n  \"rows\": 8,\n  \"fields\": [\n    {\n      \"column\": \"ind\",\n      \"properties\": {\n        \"dtype\": \"number\",\n        \"std\": 181.17380206664254,\n        \"min\": 1.0,\n        \"max\": 516.0,\n        \"num_unique_values\": 7,\n        \"samples\": [\n          516.0,\n          3.988372093023256,\n          5.0\n        ],\n        \"semantic_type\": \"\",\n        \"description\": \"\"\n      }\n    },\n    {\n      \"column\": \"COGS_Frac\",\n      \"properties\": {\n        \"dtype\": \"number\",\n        \"std\": 182.24666846700498,\n        \"min\": 0.0015174679962576,\n        \"max\": 516.0,\n        \"num_unique_values\": 8,\n        \"samples\": [\n          0.5919587955789654,\n          0.662988371281503,\n          516.0\n        ],\n        \"semantic_type\": \"\",\n        \"description\": \"\"\n      }\n    },\n    {\n      \"column\": \"SGA_Frac\",\n      \"properties\": {\n        \"dtype\": \"number\",\n        \"std\": 182.29121856695267,\n        \"min\": 0.0113765482062285,\n        \"max\": 516.0,\n        \"num_unique_values\": 8,\n        \"samples\": [\n          0.4080412044210346,\n          0.337011628718497,\n          516.0\n        ],\n        \"semantic_type\": \"\",\n        \"description\": \"\"\n      }\n    },\n    {\n      \"column\": \"Inventory_Assets\",\n      \"properties\": {\n        \"dtype\": \"number\",\n        \"std\": 182.36847145364413,\n        \"min\": 0.0,\n        \"max\": 516.0,\n        \"num_unique_values\": 8,\n        \"samples\": [\n          0.11508090817071168,\n          0.07513603886995665,\n          516.0\n        ],\n        \"semantic_type\": \"\",\n        \"description\": \"\"\n      }\n    },\n    {\n      \"column\": \"PPE_Assets\",\n      \"properties\": {\n        \"dtype\": \"number\",\n        \"std\": 182.32839703046932,\n        \"min\": 0.0,\n        \"max\": 516.0,\n        \"num_unique_values\": 8,\n        \"samples\": [\n          0.25578009537523083,\n          0.14991688652980173,\n          516.0\n        ],\n        \"semantic_type\": \"\",\n        \"description\": \"\"\n      }\n    },\n    {\n      \"column\": \"LongTermDebt_Assets\",\n      \"properties\": {\n        \"dtype\": \"number\",\n        \"std\": 182.27983678599725,\n        \"min\": 0.0,\n        \"max\": 516.0,\n        \"num_unique_values\": 8,\n        \"samples\": [\n          0.1984281069868619,\n          0.1380419394662069,\n          516.0\n        ],\n        \"semantic_type\": \"\",\n        \"description\": \"\"\n      }\n    },\n    {\n      \"column\": \"ATR\",\n      \"properties\": {\n        \"dtype\": \"number\",\n        \"std\": 181.9950116058122,\n        \"min\": 0.0001760971314704,\n        \"max\": 516.0,\n        \"num_unique_values\": 8,\n        \"samples\": [\n          0.9077189616527513,\n          0.6919661768657537,\n          516.0\n        ],\n        \"semantic_type\": \"\",\n        \"description\": \"\"\n      }\n    },\n    {\n      \"column\": \"log_Size\",\n      \"properties\": {\n        \"dtype\": \"number\",\n        \"std\": 180.56858871696582,\n        \"min\": -3.170085660698769,\n        \"max\": 516.0,\n        \"num_unique_values\": 8,\n        \"samples\": [\n          6.303571789773144,\n          6.5435326949280554,\n          516.0\n        ],\n        \"semantic_type\": \"\",\n        \"description\": \"\"\n      }\n    }\n  ]\n}"
            }
          },
          "metadata": {},
          "execution_count": 4
        }
      ]
    },
    {
      "cell_type": "markdown",
      "source": [
        "## Step 4: Graph the frequencies of each industry (Both training and validation samples)"
      ],
      "metadata": {
        "id": "KbAJU2zbaXT1"
      }
    },
    {
      "cell_type": "code",
      "source": [
        "df.ind.value_counts().plot(kind = 'bar')"
      ],
      "metadata": {
        "colab": {
          "base_uri": "https://localhost:8080/",
          "height": 442
        },
        "id": "4pPt3BY-wexV",
        "outputId": "b605419a-f2d3-46d3-92fc-aa0128dc3bd1"
      },
      "execution_count": null,
      "outputs": [
        {
          "output_type": "execute_result",
          "data": {
            "text/plain": [
              "<Axes: >"
            ]
          },
          "metadata": {},
          "execution_count": 5
        },
        {
          "output_type": "display_data",
          "data": {
            "text/plain": [
              "<Figure size 640x480 with 1 Axes>"
            ],
            "image/png": "[encoded data removed]"
          },
          "metadata": {}
        }
      ]
    },
    {
      "cell_type": "markdown",
      "source": [
        "## Example of scatter/cluster plots in 2 dimensions of possible explanatory variables (financial ratios)\n"
      ],
      "metadata": {
        "id": "enLb00Krag_F"
      }
    },
    {
      "cell_type": "code",
      "source": [
        "fig = plt.figure(figsize=(16, 5))\n",
        "a = fig.add_subplot(1, 3, 1)\n",
        "for i in df.ind.unique():\n",
        "  a.scatter(x = 'ATR', y = 'PPE_Assets', data = df[df.ind == i], label = i)\n",
        "  plt.legend(loc = 'upper right')\n",
        "  plt.xlabel('ATR')\n",
        "  plt.ylabel('PPE_Assets')\n",
        "\n",
        "b = fig.add_subplot(1, 3, 2)\n",
        "for i in df.ind.unique():\n",
        "  b.scatter(x = 'Inventory_Assets', y = 'PPE_Assets', data = df[df.ind == i], label = i)\n",
        "  plt.legend(loc = 'upper right')\n",
        "  plt.xlabel('Inventory_Assets')\n",
        "  plt.ylabel('PPE_Assets')\n"
      ],
      "metadata": {
        "colab": {
          "base_uri": "https://localhost:8080/",
          "height": 465
        },
        "id": "DSvE5_dU4taI",
        "outputId": "16d2543d-e1e3-4f88-d3b5-74466fa26327"
      },
      "execution_count": null,
      "outputs": [
        {
          "output_type": "display_data",
          "data": {
            "text/plain": [
              "<Figure size 1600x500 with 2 Axes>"
            ],
            "image/png": "[encoded data removed]"
          },
          "metadata": {}
        }
      ]
    },
    {
      "cell_type": "markdown",
      "source": [
        "**First look at the variables and check for outliers**"
      ],
      "metadata": {
        "id": "peqUTjWOFnT9"
      }
    },
    {
      "cell_type": "code",
      "source": [
        "df.groupby('ind').mean()"
      ],
      "metadata": {
        "colab": {
          "base_uri": "https://localhost:8080/",
          "height": 261
        },
        "id": "tsC79dLBCMmP",
        "outputId": "0dff0e8a-6f9d-4cf7-8abd-47b627cb29c7"
      },
      "execution_count": null,
      "outputs": [
        {
          "output_type": "stream",
          "name": "stderr",
          "text": [
            "<ipython-input-40-95adc6691663>:1: FutureWarning: The default value of numeric_only in DataFrameGroupBy.mean is deprecated. In a future version, numeric_only will default to False. Either specify numeric_only or select only columns which should be valid for the function.\n",
            "  df.groupby('ind').mean()\n"
          ]
        },
        {
          "output_type": "execute_result",
          "data": {
            "text/plain": [
              "     COGS_Frac  SGA_Frac  Inventory_Assets  PPE_Assets  LongTermDebt_Assets  \\\n",
              "ind                                                                           \n",
              "1     0.770388  0.229612          0.074449    0.630442             0.113415   \n",
              "3     0.665917  0.334083          0.176217    0.150947             0.214018   \n",
              "5     0.603222  0.396778          0.175033    0.230315             0.253746   \n",
              "7     0.326319  0.673681          0.009056    0.109477             0.198448   \n",
              "\n",
              "          ATR  log_Size  \n",
              "ind                      \n",
              "1    0.505802  6.434868  \n",
              "3    0.828244  6.868593  \n",
              "5    1.533326  6.118199  \n",
              "7    0.795150  5.562418  "
            ],
            "text/html": [
              "\n",
              "  <div id=\"df-6b229e73-5025-4cb4-98b7-340b1c588c9e\" class=\"colab-df-container\">\n",
              "    <div>\n",
              "<style scoped>\n",
              "    .dataframe tbody tr th:only-of-type {\n",
              "        vertical-align: middle;\n",
              "    }\n",
              "\n",
              "    .dataframe tbody tr th {\n",
              "        vertical-align: top;\n",
              "    }\n",
              "\n",
              "    .dataframe thead th {\n",
              "        text-align: right;\n",
              "    }\n",
              "</style>\n",
              "<table border=\"1\" class=\"dataframe\">\n",
              "  <thead>\n",
              "    <tr style=\"text-align: right;\">\n",
              "      <th></th>\n",
              "      <th>COGS_Frac</th>\n",
              "      <th>SGA_Frac</th>\n",
              "      <th>Inventory_Assets</th>\n",
              "      <th>PPE_Assets</th>\n",
              "      <th>LongTermDebt_Assets</th>\n",
              "      <th>ATR</th>\n",
              "      <th>log_Size</th>\n",
              "    </tr>\n",
              "    <tr>\n",
              "      <th>ind</th>\n",
              "      <th></th>\n",
              "      <th></th>\n",
              "      <th></th>\n",
              "      <th></th>\n",
              "      <th></th>\n",
              "      <th></th>\n",
              "      <th></th>\n",
              "    </tr>\n",
              "  </thead>\n",
              "  <tbody>\n",
              "    <tr>\n",
              "      <th>1</th>\n",
              "      <td>0.770388</td>\n",
              "      <td>0.229612</td>\n",
              "      <td>0.074449</td>\n",
              "      <td>0.630442</td>\n",
              "      <td>0.113415</td>\n",
              "      <td>0.505802</td>\n",
              "      <td>6.434868</td>\n",
              "    </tr>\n",
              "    <tr>\n",
              "      <th>3</th>\n",
              "      <td>0.665917</td>\n",
              "      <td>0.334083</td>\n",
              "      <td>0.176217</td>\n",
              "      <td>0.150947</td>\n",
              "      <td>0.214018</td>\n",
              "      <td>0.828244</td>\n",
              "      <td>6.868593</td>\n",
              "    </tr>\n",
              "    <tr>\n",
              "      <th>5</th>\n",
              "      <td>0.603222</td>\n",
              "      <td>0.396778</td>\n",
              "      <td>0.175033</td>\n",
              "      <td>0.230315</td>\n",
              "      <td>0.253746</td>\n",
              "      <td>1.533326</td>\n",
              "      <td>6.118199</td>\n",
              "    </tr>\n",
              "    <tr>\n",
              "      <th>7</th>\n",
              "      <td>0.326319</td>\n",
              "      <td>0.673681</td>\n",
              "      <td>0.009056</td>\n",
              "      <td>0.109477</td>\n",
              "      <td>0.198448</td>\n",
              "      <td>0.795150</td>\n",
              "      <td>5.562418</td>\n",
              "    </tr>\n",
              "  </tbody>\n",
              "</table>\n",
              "</div>\n",
              "    <div class=\"colab-df-buttons\">\n",
              "\n",
              "  <div class=\"colab-df-container\">\n",
              "    <button class=\"colab-df-convert\" onclick=\"convertToInteractive('df-6b229e73-5025-4cb4-98b7-340b1c588c9e')\"\n",
              "            title=\"Convert this dataframe to an interactive table.\"\n",
              "            style=\"display:none;\">\n",
              "\n",
              "  <svg xmlns=\"http://www.w3.org/2000/svg\" height=\"24px\" viewBox=\"0 -960 960 960\">\n",
              "    <path d=\"M120-120v-720h720v720H120Zm60-500h600v-160H180v160Zm220 220h160v-160H400v160Zm0 220h160v-160H400v160ZM180-400h160v-160H180v160Zm440 0h160v-160H620v160ZM180-180h160v-160H180v160Zm440 0h160v-160H620v160Z\"/>\n",
              "  </svg>\n",
              "    </button>\n",
              "\n",
              "  <style>\n",
              "    .colab-df-container {\n",
              "      display:flex;\n",
              "      gap: 12px;\n",
              "    }\n",
              "\n",
              "    .colab-df-convert {\n",
              "      background-color: #E8F0FE;\n",
              "      border: none;\n",
              "      border-radius: 50%;\n",
              "      cursor: pointer;\n",
              "      display: none;\n",
              "      fill: #1967D2;\n",
              "      height: 32px;\n",
              "      padding: 0 0 0 0;\n",
              "      width: 32px;\n",
              "    }\n",
              "\n",
              "    .colab-df-convert:hover {\n",
              "      background-color: #E2EBFA;\n",
              "      box-shadow: 0px 1px 2px rgba(60, 64, 67, 0.3), 0px 1px 3px 1px rgba(60, 64, 67, 0.15);\n",
              "      fill: #174EA6;\n",
              "    }\n",
              "\n",
              "    .colab-df-buttons div {\n",
              "      margin-bottom: 4px;\n",
              "    }\n",
              "\n",
              "    [theme=dark] .colab-df-convert {\n",
              "      background-color: #3B4455;\n",
              "      fill: #D2E3FC;\n",
              "    }\n",
              "\n",
              "    [theme=dark] .colab-df-convert:hover {\n",
              "      background-color: #434B5C;\n",
              "      box-shadow: 0px 1px 3px 1px rgba(0, 0, 0, 0.15);\n",
              "      filter: drop-shadow(0px 1px 2px rgba(0, 0, 0, 0.3));\n",
              "      fill: #FFFFFF;\n",
              "    }\n",
              "  </style>\n",
              "\n",
              "    <script>\n",
              "      const buttonEl =\n",
              "        document.querySelector('#df-6b229e73-5025-4cb4-98b7-340b1c588c9e button.colab-df-convert');\n",
              "      buttonEl.style.display =\n",
              "        google.colab.kernel.accessAllowed ? 'block' : 'none';\n",
              "\n",
              "      async function convertToInteractive(key) {\n",
              "        const element = document.querySelector('#df-6b229e73-5025-4cb4-98b7-340b1c588c9e');\n",
              "        const dataTable =\n",
              "          await google.colab.kernel.invokeFunction('convertToInteractive',\n",
              "                                                    [key], {});\n",
              "        if (!dataTable) return;\n",
              "\n",
              "        const docLinkHtml = 'Like what you see? Visit the ' +\n",
              "          '<a target=\"_blank\" href=https://colab.research.google.com/notebooks/data_table.ipynb>data table notebook</a>'\n",
              "          + ' to learn more about interactive tables.';\n",
              "        element.innerHTML = '';\n",
              "        dataTable['output_type'] = 'display_data';\n",
              "        await google.colab.output.renderOutput(dataTable, element);\n",
              "        const docLink = document.createElement('div');\n",
              "        docLink.innerHTML = docLinkHtml;\n",
              "        element.appendChild(docLink);\n",
              "      }\n",
              "    </script>\n",
              "  </div>\n",
              "\n",
              "\n",
              "<div id=\"df-668b1b2a-c566-49a7-bde5-6b654b68633e\">\n",
              "  <button class=\"colab-df-quickchart\" onclick=\"quickchart('df-668b1b2a-c566-49a7-bde5-6b654b68633e')\"\n",
              "            title=\"Suggest charts\"\n",
              "            style=\"display:none;\">\n",
              "\n",
              "<svg xmlns=\"http://www.w3.org/2000/svg\" height=\"24px\"viewBox=\"0 0 24 24\"\n",
              "     width=\"24px\">\n",
              "    <g>\n",
              "        <path d=\"M19 3H5c-1.1 0-2 .9-2 2v14c0 1.1.9 2 2 2h14c1.1 0 2-.9 2-2V5c0-1.1-.9-2-2-2zM9 17H7v-7h2v7zm4 0h-2V7h2v10zm4 0h-2v-4h2v4z\"/>\n",
              "    </g>\n",
              "</svg>\n",
              "  </button>\n",
              "\n",
              "<style>\n",
              "  .colab-df-quickchart {\n",
              "      --bg-color: #E8F0FE;\n",
              "      --fill-color: #1967D2;\n",
              "      --hover-bg-color: #E2EBFA;\n",
              "      --hover-fill-color: #174EA6;\n",
              "      --disabled-fill-color: #AAA;\n",
              "      --disabled-bg-color: #DDD;\n",
              "  }\n",
              "\n",
              "  [theme=dark] .colab-df-quickchart {\n",
              "      --bg-color: #3B4455;\n",
              "      --fill-color: #D2E3FC;\n",
              "      --hover-bg-color: #434B5C;\n",
              "      --hover-fill-color: #FFFFFF;\n",
              "      --disabled-bg-color: #3B4455;\n",
              "      --disabled-fill-color: #666;\n",
              "  }\n",
              "\n",
              "  .colab-df-quickchart {\n",
              "    background-color: var(--bg-color);\n",
              "    border: none;\n",
              "    border-radius: 50%;\n",
              "    cursor: pointer;\n",
              "    display: none;\n",
              "    fill: var(--fill-color);\n",
              "    height: 32px;\n",
              "    padding: 0;\n",
              "    width: 32px;\n",
              "  }\n",
              "\n",
              "  .colab-df-quickchart:hover {\n",
              "    background-color: var(--hover-bg-color);\n",
              "    box-shadow: 0 1px 2px rgba(60, 64, 67, 0.3), 0 1px 3px 1px rgba(60, 64, 67, 0.15);\n",
              "    fill: var(--button-hover-fill-color);\n",
              "  }\n",
              "\n",
              "  .colab-df-quickchart-complete:disabled,\n",
              "  .colab-df-quickchart-complete:disabled:hover {\n",
              "    background-color: var(--disabled-bg-color);\n",
              "    fill: var(--disabled-fill-color);\n",
              "    box-shadow: none;\n",
              "  }\n",
              "\n",
              "  .colab-df-spinner {\n",
              "    border: 2px solid var(--fill-color);\n",
              "    border-color: transparent;\n",
              "    border-bottom-color: var(--fill-color);\n",
              "    animation:\n",
              "      spin 1s steps(1) infinite;\n",
              "  }\n",
              "\n",
              "  @keyframes spin {\n",
              "    0% {\n",
              "      border-color: transparent;\n",
              "      border-bottom-color: var(--fill-color);\n",
              "      border-left-color: var(--fill-color);\n",
              "    }\n",
              "    20% {\n",
              "      border-color: transparent;\n",
              "      border-left-color: var(--fill-color);\n",
              "      border-top-color: var(--fill-color);\n",
              "    }\n",
              "    30% {\n",
              "      border-color: transparent;\n",
              "      border-left-color: var(--fill-color);\n",
              "      border-top-color: var(--fill-color);\n",
              "      border-right-color: var(--fill-color);\n",
              "    }\n",
              "    40% {\n",
              "      border-color: transparent;\n",
              "      border-right-color: var(--fill-color);\n",
              "      border-top-color: var(--fill-color);\n",
              "    }\n",
              "    60% {\n",
              "      border-color: transparent;\n",
              "      border-right-color: var(--fill-color);\n",
              "    }\n",
              "    80% {\n",
              "      border-color: transparent;\n",
              "      border-right-color: var(--fill-color);\n",
              "      border-bottom-color: var(--fill-color);\n",
              "    }\n",
              "    90% {\n",
              "      border-color: transparent;\n",
              "      border-bottom-color: var(--fill-color);\n",
              "    }\n",
              "  }\n",
              "</style>\n",
              "\n",
              "  <script>\n",
              "    async function quickchart(key) {\n",
              "      const quickchartButtonEl =\n",
              "        document.querySelector('#' + key + ' button');\n",
              "      quickchartButtonEl.disabled = true;  // To prevent multiple clicks.\n",
              "      quickchartButtonEl.classList.add('colab-df-spinner');\n",
              "      try {\n",
              "        const charts = await google.colab.kernel.invokeFunction(\n",
              "            'suggestCharts', [key], {});\n",
              "      } catch (error) {\n",
              "        console.error('Error during call to suggestCharts:', error);\n",
              "      }\n",
              "      quickchartButtonEl.classList.remove('colab-df-spinner');\n",
              "      quickchartButtonEl.classList.add('colab-df-quickchart-complete');\n",
              "    }\n",
              "    (() => {\n",
              "      let quickchartButtonEl =\n",
              "        document.querySelector('#df-668b1b2a-c566-49a7-bde5-6b654b68633e button');\n",
              "      quickchartButtonEl.style.display =\n",
              "        google.colab.kernel.accessAllowed ? 'block' : 'none';\n",
              "    })();\n",
              "  </script>\n",
              "</div>\n",
              "    </div>\n",
              "  </div>\n"
            ],
            "application/vnd.google.colaboratory.intrinsic+json": {
              "type": "dataframe",
              "summary": "{\n  \"name\": \"df\",\n  \"rows\": 4,\n  \"fields\": [\n    {\n      \"column\": \"ind\",\n      \"properties\": {\n        \"dtype\": \"number\",\n        \"std\": 2,\n        \"min\": 1,\n        \"max\": 7,\n        \"num_unique_values\": 4,\n        \"samples\": [\n          3,\n          7,\n          1\n        ],\n        \"semantic_type\": \"\",\n        \"description\": \"\"\n      }\n    },\n    {\n      \"column\": \"COGS_Frac\",\n      \"properties\": {\n        \"dtype\": \"number\",\n        \"std\": 0.1897341539995648,\n        \"min\": 0.32631914291133096,\n        \"max\": 0.770388011227425,\n        \"num_unique_values\": 4,\n        \"samples\": [\n          0.6659172944735399,\n          0.32631914291133096,\n          0.770388011227425\n        ],\n        \"semantic_type\": \"\",\n        \"description\": \"\"\n      }\n    },\n    {\n      \"column\": \"SGA_Frac\",\n      \"properties\": {\n        \"dtype\": \"number\",\n        \"std\": 0.1897341539995648,\n        \"min\": 0.22961198877257505,\n        \"max\": 0.673680857088669,\n        \"num_unique_values\": 4,\n        \"samples\": [\n          0.33408270552646013,\n          0.673680857088669,\n          0.22961198877257505\n        ],\n        \"semantic_type\": \"\",\n        \"description\": \"\"\n      }\n    },\n    {\n      \"column\": \"Inventory_Assets\",\n      \"properties\": {\n        \"dtype\": \"number\",\n        \"std\": 0.0817735496292626,\n        \"min\": 0.009055624335451198,\n        \"max\": 0.17621740952655102,\n        \"num_unique_values\": 4,\n        \"samples\": [\n          0.17621740952655102,\n          0.009055624335451198,\n          0.07444908354327871\n        ],\n        \"semantic_type\": \"\",\n        \"description\": \"\"\n      }\n    },\n    {\n      \"column\": \"PPE_Assets\",\n      \"properties\": {\n        \"dtype\": \"number\",\n        \"std\": 0.23875442461170426,\n        \"min\": 0.10947661382113226,\n        \"max\": 0.6304423851585426,\n        \"num_unique_values\": 4,\n        \"samples\": [\n          0.15094715207861667,\n          0.10947661382113226,\n          0.6304423851585426\n        ],\n        \"semantic_type\": \"\",\n        \"description\": \"\"\n      }\n    },\n    {\n      \"column\": \"LongTermDebt_Assets\",\n      \"properties\": {\n        \"dtype\": \"number\",\n        \"std\": 0.059106508432165965,\n        \"min\": 0.11341528000652247,\n        \"max\": 0.25374639557143447,\n        \"num_unique_values\": 4,\n        \"samples\": [\n          0.2140177905467018,\n          0.1984482996359871,\n          0.11341528000652247\n        ],\n        \"semantic_type\": \"\",\n        \"description\": \"\"\n      }\n    },\n    {\n      \"column\": \"ATR\",\n      \"properties\": {\n        \"dtype\": \"number\",\n        \"std\": 0.4365237670032311,\n        \"min\": 0.5058015531851325,\n        \"max\": 1.5333257077849254,\n        \"num_unique_values\": 4,\n        \"samples\": [\n          0.8282439527052199,\n          0.7951504042988361,\n          0.5058015531851325\n        ],\n        \"semantic_type\": \"\",\n        \"description\": \"\"\n      }\n    },\n    {\n      \"column\": \"log_Size\",\n      \"properties\": {\n        \"dtype\": \"number\",\n        \"std\": 0.5498211166784113,\n        \"min\": 5.5624181857203485,\n        \"max\": 6.8685926626294025,\n        \"num_unique_values\": 4,\n        \"samples\": [\n          6.8685926626294025,\n          5.5624181857203485,\n          6.434867913827603\n        ],\n        \"semantic_type\": \"\",\n        \"description\": \"\"\n      }\n    }\n  ]\n}"
            }
          },
          "metadata": {},
          "execution_count": 40
        }
      ]
    },
    {
      "cell_type": "markdown",
      "source": [
        "\n",
        "**Analysis Summary:**\n",
        "\n",
        "The analysis reveals significant variations in financial ratios across four industries: metal mining, manufacturing, retail, and software development.\n",
        "\n",
        "1.   **COGS_Frac Ratio**: Software development firms exhibit notably lower COGS_Frac ratios compared to other industries. This can be attributed to the service-oriented nature of software firms, resulting in lower costs of goods sold. In contrast, the metal mining industry demonstrates the highest COGS over total operation cost at 80%, reflecting its reliance on tangible goods.\n",
        "\n",
        "2.   **SGA_Frac Ratio**: Software development firms show the highest SGA_Frac ratio at 67%, significantly exceeding other industries by 2-3 times. This disparity underscores the unique cost structures within the software sector, likely driven by intensive spending on sales, general, and administrative activities. Considering that the sum of COGS_Frac and SGA_Frac is 1, it's advisable to use either ratio for modeling purposes, but not both.\n",
        "\n",
        "3.   **Inventory_Assets Ratio**: Manufacturing and retail industries exhibit the highest levels of inventory in their assets base, whereas software companies maintain minimal inventory due to their service-oriented nature. This ratio proves effective in distinguishing industries based on their inventory management practices.\n",
        "\n",
        "4.   **PPE_Assets Ratio**: There is a significant discrepancy in the average PPE_Assets ratio between the metal mining industry and other sectors, particularly software development. This highlights differences in asset utilization and capital expenditure patterns, making it a valuable indicator for industry classification.\n",
        "\n",
        "5.   **LongTermDebt_Assets Ratio**: Across industries, average LongTermDebt_Assets ratios remain relatively similar, ranging from 0.11 to 0.25. Consequently, this ratio may not serve as a strong predictor of industry classification.\n",
        "\n",
        "6.   **ATR (Asset Turnover Ratio)**: ATR emerges as a distinguishing factor for the retail industry, with a significantly higher value compared to other sectors. This aligns with the retail sector's characteristic of generating substantial sales with relatively lower asset levels.\n",
        "\n",
        "7.   **log_Size Ratio**: This ratio exhibits consistent values across industries and may not offer significant discriminatory power for modeling purposes.\n",
        "\n",
        "In conclusion, several key ratios including COGS_Frac, SGA_Frac, Inventory_Assets, PPE_Assets, and ATR demonstrate potential utility in building a classification model for industries based on financial data. These ratios capture essential differences in operational and financial characteristics among diverse industry segments."
      ],
      "metadata": {
        "id": "zxF9qLFRCqiE"
      }
    },
    {
      "cell_type": "markdown",
      "source": [
        "**Detect outliers using boxplot**"
      ],
      "metadata": {
        "id": "8FfPH4WkX2B3"
      }
    },
    {
      "cell_type": "code",
      "source": [
        "sns.boxplot(x=df['COGS_Frac'])\n",
        "plt.show()"
      ],
      "metadata": {
        "colab": {
          "base_uri": "https://localhost:8080/",
          "height": 449
        },
        "id": "xgTQn5J2YQMZ",
        "outputId": "7861fd06-8b52-4994-c55d-2ca8abf1c89b"
      },
      "execution_count": null,
      "outputs": [
        {
          "output_type": "display_data",
          "data": {
            "text/plain": [
              "<Figure size 640x480 with 1 Axes>"
            ],
            "image/png": "[encoded data removed]"
          },
          "metadata": {}
        }
      ]
    },
    {
      "cell_type": "code",
      "source": [
        "sns.boxplot(x=df['Inventory_Assets'])\n",
        "plt.show()"
      ],
      "metadata": {
        "colab": {
          "base_uri": "https://localhost:8080/",
          "height": 449
        },
        "id": "1BTG2BLpZTWd",
        "outputId": "605d5bf3-4dac-49b9-9a33-d64beb1a1000"
      },
      "execution_count": null,
      "outputs": [
        {
          "output_type": "display_data",
          "data": {
            "text/plain": [
              "<Figure size 640x480 with 1 Axes>"
            ],
            "image/png": "[encoded data removed]"
          },
          "metadata": {}
        }
      ]
    },
    {
      "cell_type": "code",
      "source": [
        "sns.boxplot(x=df['PPE_Assets'])\n",
        "plt.show()"
      ],
      "metadata": {
        "colab": {
          "base_uri": "https://localhost:8080/",
          "height": 449
        },
        "id": "yYhjB2vwZZ46",
        "outputId": "463f1865-3dea-4520-f3c7-d9975e4ec6be"
      },
      "execution_count": null,
      "outputs": [
        {
          "output_type": "display_data",
          "data": {
            "text/plain": [
              "<Figure size 640x480 with 1 Axes>"
            ],
            "image/png": "[encoded data removed]"
          },
          "metadata": {}
        }
      ]
    },
    {
      "cell_type": "code",
      "source": [
        "sns.boxplot(x=df['ATR'])\n",
        "plt.show()"
      ],
      "metadata": {
        "colab": {
          "base_uri": "https://localhost:8080/",
          "height": 449
        },
        "id": "ZJArQxliZfW3",
        "outputId": "d90ac455-efd5-43cc-b9fb-ecc9fe479a5e"
      },
      "execution_count": null,
      "outputs": [
        {
          "output_type": "display_data",
          "data": {
            "text/plain": [
              "<Figure size 640x480 with 1 Axes>"
            ],
            "image/png": "[encoded data removed]"
          },
          "metadata": {}
        }
      ]
    },
    {
      "cell_type": "markdown",
      "source": [
        "## Start prepping data for logistic regression analysis"
      ],
      "metadata": {
        "id": "HZcaoQDeayk3"
      }
    },
    {
      "cell_type": "markdown",
      "source": [
        "**Model 1: ATR and PPE_Assets**\n"
      ],
      "metadata": {
        "id": "sXEdDM0FFtiX"
      }
    },
    {
      "cell_type": "code",
      "source": [
        "# Input/independent variables\n",
        "\n",
        "# here we are dropping the quality feature as this is the target and 'X' is input features, the changes are not\n",
        "# made inplace as we have not used 'inplace = True'\n",
        "\n",
        "X = df[['ATR', 'PPE_Assets']]\n",
        "\n",
        "# NOTE: You will change the above line to add/subtract explanatory variables\n",
        "\n",
        "# Output/Dependent variable (predict industry category)\n",
        "y = df.ind"
      ],
      "metadata": {
        "id": "CEuca70v2ldv"
      },
      "execution_count": null,
      "outputs": []
    },
    {
      "cell_type": "code",
      "source": [
        "# Let's check the shapes of X and y\n",
        "\n",
        "\n",
        "# Important: You will have additional dimensiopns when you add variables\n",
        "\n",
        "print(\"Shape: \", X.shape, \"Dimension: \", X.ndim)\n",
        "print(\"Shape: \", y.shape, \"Dimension: \", y.ndim)"
      ],
      "metadata": {
        "colab": {
          "base_uri": "https://localhost:8080/"
        },
        "id": "m0nQIram20Ms",
        "outputId": "aa493636-5d3a-4b16-c185-8d979de1b2b7"
      },
      "execution_count": null,
      "outputs": [
        {
          "output_type": "stream",
          "name": "stdout",
          "text": [
            "Shape:  (516, 2) Dimension:  2\n",
            "Shape:  (516,) Dimension:  1\n"
          ]
        }
      ]
    },
    {
      "cell_type": "markdown",
      "source": [
        "## Divide data into Testing and Validation samples"
      ],
      "metadata": {
        "id": "eNnjxN4_bOzl"
      }
    },
    {
      "cell_type": "code",
      "source": [
        "# import train_test_split\n",
        "from sklearn.model_selection import train_test_split"
      ],
      "metadata": {
        "id": "ossSVfQc3aL-"
      },
      "execution_count": null,
      "outputs": []
    },
    {
      "cell_type": "code",
      "source": [
        "# split the data\n",
        "\n",
        "# Note that we have Train sample and Test (Validation) sample\n",
        "X_train, X_test, y_train, y_test = train_test_split(X,y,test_size=0.3, random_state = 42)\n",
        "\n",
        "# X_train: independent/input feature data for training the model\n",
        "# y_train: dependent/output feature data for training the model\n",
        "# X_test: independent/input feature data for testing the model; will be used to predict the output values\n",
        "# y_test: original dependent/output values of X_test; We will compare this values with our predicted values to check the performance of our built model.\n",
        "\n",
        "# test_size = 0.30: 30% of the data will go for test set and 70% of the data will go for train set\n",
        "# random_state = 42: this will fix the split i.e. there will be same split for each time you run the code"
      ],
      "metadata": {
        "id": "iNJnOMbL3e9W"
      },
      "execution_count": null,
      "outputs": []
    },
    {
      "cell_type": "code",
      "source": [
        "# import Logistic Regression from sklearn.linear_model\n",
        "from sklearn.linear_model import LogisticRegression\n",
        "\n"
      ],
      "metadata": {
        "id": "HkaBecPI3meW"
      },
      "execution_count": null,
      "outputs": []
    },
    {
      "cell_type": "code",
      "source": [
        "log_model = LogisticRegression()"
      ],
      "metadata": {
        "id": "ic_NRItZ3t96"
      },
      "execution_count": null,
      "outputs": []
    },
    {
      "cell_type": "markdown",
      "source": [
        "## Estimate the best fit logistic regression on Training data"
      ],
      "metadata": {
        "id": "qF7AnTJTbgyT"
      }
    },
    {
      "cell_type": "code",
      "source": [
        "# Fit the model on the training data\n",
        "log_model.fit(X_train, y_train)\n",
        "\n"
      ],
      "metadata": {
        "colab": {
          "base_uri": "https://localhost:8080/",
          "height": 74
        },
        "id": "coKrYA_v31WQ",
        "outputId": "4fa5dad3-c612-4928-d916-b3d021576214"
      },
      "execution_count": null,
      "outputs": [
        {
          "output_type": "execute_result",
          "data": {
            "text/plain": [
              "LogisticRegression()"
            ],
            "text/html": [
              "<style>#sk-container-id-1 {color: black;background-color: white;}#sk-container-id-1 pre{padding: 0;}#sk-container-id-1 div.sk-toggleable {background-color: white;}#sk-container-id-1 label.sk-toggleable__label {cursor: pointer;display: block;width: 100%;margin-bottom: 0;padding: 0.3em;box-sizing: border-box;text-align: center;}#sk-container-id-1 label.sk-toggleable__label-arrow:before {content: \"▸\";float: left;margin-right: 0.25em;color: #696969;}#sk-container-id-1 label.sk-toggleable__label-arrow:hover:before {color: black;}#sk-container-id-1 div.sk-estimator:hover label.sk-toggleable__label-arrow:before {color: black;}#sk-container-id-1 div.sk-toggleable__content {max-height: 0;max-width: 0;overflow: hidden;text-align: left;background-color: #f0f8ff;}#sk-container-id-1 div.sk-toggleable__content pre {margin: 0.2em;color: black;border-radius: 0.25em;background-color: #f0f8ff;}#sk-container-id-1 input.sk-toggleable__control:checked~div.sk-toggleable__content {max-height: 200px;max-width: 100%;overflow: auto;}#sk-container-id-1 input.sk-toggleable__control:checked~label.sk-toggleable__label-arrow:before {content: \"▾\";}#sk-container-id-1 div.sk-estimator input.sk-toggleable__control:checked~label.sk-toggleable__label {background-color: #d4ebff;}#sk-container-id-1 div.sk-label input.sk-toggleable__control:checked~label.sk-toggleable__label {background-color: #d4ebff;}#sk-container-id-1 input.sk-hidden--visually {border: 0;clip: rect(1px 1px 1px 1px);clip: rect(1px, 1px, 1px, 1px);height: 1px;margin: -1px;overflow: hidden;padding: 0;position: absolute;width: 1px;}#sk-container-id-1 div.sk-estimator {font-family: monospace;background-color: #f0f8ff;border: 1px dotted black;border-radius: 0.25em;box-sizing: border-box;margin-bottom: 0.5em;}#sk-container-id-1 div.sk-estimator:hover {background-color: #d4ebff;}#sk-container-id-1 div.sk-parallel-item::after {content: \"\";width: 100%;border-bottom: 1px solid gray;flex-grow: 1;}#sk-container-id-1 div.sk-label:hover label.sk-toggleable__label {background-color: #d4ebff;}#sk-container-id-1 div.sk-serial::before {content: \"\";position: absolute;border-left: 1px solid gray;box-sizing: border-box;top: 0;bottom: 0;left: 50%;z-index: 0;}#sk-container-id-1 div.sk-serial {display: flex;flex-direction: column;align-items: center;background-color: white;padding-right: 0.2em;padding-left: 0.2em;position: relative;}#sk-container-id-1 div.sk-item {position: relative;z-index: 1;}#sk-container-id-1 div.sk-parallel {display: flex;align-items: stretch;justify-content: center;background-color: white;position: relative;}#sk-container-id-1 div.sk-item::before, #sk-container-id-1 div.sk-parallel-item::before {content: \"\";position: absolute;border-left: 1px solid gray;box-sizing: border-box;top: 0;bottom: 0;left: 50%;z-index: -1;}#sk-container-id-1 div.sk-parallel-item {display: flex;flex-direction: column;z-index: 1;position: relative;background-color: white;}#sk-container-id-1 div.sk-parallel-item:first-child::after {align-self: flex-end;width: 50%;}#sk-container-id-1 div.sk-parallel-item:last-child::after {align-self: flex-start;width: 50%;}#sk-container-id-1 div.sk-parallel-item:only-child::after {width: 0;}#sk-container-id-1 div.sk-dashed-wrapped {border: 1px dashed gray;margin: 0 0.4em 0.5em 0.4em;box-sizing: border-box;padding-bottom: 0.4em;background-color: white;}#sk-container-id-1 div.sk-label label {font-family: monospace;font-weight: bold;display: inline-block;line-height: 1.2em;}#sk-container-id-1 div.sk-label-container {text-align: center;}#sk-container-id-1 div.sk-container {/* jupyter's `normalize.less` sets `[hidden] { display: none; }` but bootstrap.min.css set `[hidden] { display: none !important; }` so we also need the `!important` here to be able to override the default hidden behavior on the sphinx rendered scikit-learn.org. See: https://github.com/scikit-learn/scikit-learn/issues/21755 */display: inline-block !important;position: relative;}#sk-container-id-1 div.sk-text-repr-fallback {display: none;}</style><div id=\"sk-container-id-1\" class=\"sk-top-container\"><div class=\"sk-text-repr-fallback\"><pre>LogisticRegression()</pre><b>In a Jupyter environment, please rerun this cell to show the HTML representation or trust the notebook. <br />On GitHub, the HTML representation is unable to render, please try loading this page with nbviewer.org.</b></div><div class=\"sk-container\" hidden><div class=\"sk-item\"><div class=\"sk-estimator sk-toggleable\"><input class=\"sk-toggleable__control sk-hidden--visually\" id=\"sk-estimator-id-1\" type=\"checkbox\" checked><label for=\"sk-estimator-id-1\" class=\"sk-toggleable__label sk-toggleable__label-arrow\">LogisticRegression</label><div class=\"sk-toggleable__content\"><pre>LogisticRegression()</pre></div></div></div></div></div>"
            ]
          },
          "metadata": {},
          "execution_count": 13
        }
      ]
    },
    {
      "cell_type": "code",
      "source": [
        "predictions = log_model.predict(X_test)"
      ],
      "metadata": {
        "id": "w38PiOa5HMNK"
      },
      "execution_count": null,
      "outputs": []
    },
    {
      "cell_type": "markdown",
      "source": [
        "## Now examine how well the model worked on Validation sample"
      ],
      "metadata": {
        "id": "JJGKEtzybmwP"
      }
    },
    {
      "cell_type": "code",
      "source": [
        "from sklearn.metrics import confusion_matrix\n",
        "confusion_matrix(y_test, predictions)"
      ],
      "metadata": {
        "colab": {
          "base_uri": "https://localhost:8080/"
        },
        "id": "WuBiU7ePHNcn",
        "outputId": "2a4c2636-0ba3-4757-a085-f5a7870cef4d"
      },
      "execution_count": null,
      "outputs": [
        {
          "output_type": "execute_result",
          "data": {
            "text/plain": [
              "array([[35,  4,  1,  0],\n",
              "       [ 1, 46,  1,  0],\n",
              "       [ 0, 15, 13,  0],\n",
              "       [ 3, 34,  2,  0]])"
            ]
          },
          "metadata": {},
          "execution_count": 15
        }
      ]
    },
    {
      "cell_type": "code",
      "source": [
        "from sklearn.metrics import accuracy_score"
      ],
      "metadata": {
        "id": "QzJyruPyHgfQ"
      },
      "execution_count": null,
      "outputs": []
    },
    {
      "cell_type": "markdown",
      "source": [
        "## Determine accuracy score for Validation sample"
      ],
      "metadata": {
        "id": "NGjpjqdibsHS"
      }
    },
    {
      "cell_type": "code",
      "source": [
        "accuracy_score(y_test, predictions)"
      ],
      "metadata": {
        "colab": {
          "base_uri": "https://localhost:8080/"
        },
        "id": "edD3z0smHntb",
        "outputId": "1369f830-b703-4793-affc-a137130c029e"
      },
      "execution_count": null,
      "outputs": [
        {
          "output_type": "execute_result",
          "data": {
            "text/plain": [
              "0.6064516129032258"
            ]
          },
          "metadata": {},
          "execution_count": 17
        }
      ]
    },
    {
      "cell_type": "markdown",
      "source": [
        "**Model 2: COGS_Frac, ATR and PPE_Assets**\n",
        "\n",
        "Repeat similar steps of Model 1 above but this time we use 3 variables which are COGS_Frac, ATR and PPE_Assets."
      ],
      "metadata": {
        "id": "u3iIILCCGz_C"
      }
    },
    {
      "cell_type": "code",
      "source": [
        "# Input/independent variables\n",
        "\n",
        "X2 = df[['COGS_Frac', 'ATR', 'PPE_Assets']]\n",
        "\n",
        "# Output/Dependent variable (predict industry category)\n",
        "y2 = df.ind"
      ],
      "metadata": {
        "id": "TP2gcrLNG9ke"
      },
      "execution_count": null,
      "outputs": []
    },
    {
      "cell_type": "code",
      "source": [
        "# Let's check the shapes of X2 and y2\n",
        "\n",
        "print(\"Shape: \", X2.shape, \"Dimension: \", X2.ndim)\n",
        "print(\"Shape: \", y2.shape, \"Dimension: \", y2.ndim)"
      ],
      "metadata": {
        "colab": {
          "base_uri": "https://localhost:8080/"
        },
        "id": "aNNr6pqTHEAo",
        "outputId": "2639e752-b59d-4872-c528-563d8b60ebe8"
      },
      "execution_count": null,
      "outputs": [
        {
          "output_type": "stream",
          "name": "stdout",
          "text": [
            "Shape:  (516, 3) Dimension:  2\n",
            "Shape:  (516,) Dimension:  1\n"
          ]
        }
      ]
    },
    {
      "cell_type": "code",
      "source": [
        "# split the data\n",
        "X2_train, X2_test, y2_train, y2_test = train_test_split(X2,y2,test_size=0.3, random_state = 42)"
      ],
      "metadata": {
        "id": "Ok9LMb7MHTvg"
      },
      "execution_count": null,
      "outputs": []
    },
    {
      "cell_type": "code",
      "source": [
        "# Fit the model on the training data\n",
        "log_model.fit(X2_train, y2_train)"
      ],
      "metadata": {
        "colab": {
          "base_uri": "https://localhost:8080/",
          "height": 74
        },
        "id": "Sth5lHDeHiF4",
        "outputId": "9fbe0c36-b0be-4f62-bd71-49416a579443"
      },
      "execution_count": null,
      "outputs": [
        {
          "output_type": "execute_result",
          "data": {
            "text/plain": [
              "LogisticRegression()"
            ],
            "text/html": [
              "<style>#sk-container-id-2 {color: black;background-color: white;}#sk-container-id-2 pre{padding: 0;}#sk-container-id-2 div.sk-toggleable {background-color: white;}#sk-container-id-2 label.sk-toggleable__label {cursor: pointer;display: block;width: 100%;margin-bottom: 0;padding: 0.3em;box-sizing: border-box;text-align: center;}#sk-container-id-2 label.sk-toggleable__label-arrow:before {content: \"▸\";float: left;margin-right: 0.25em;color: #696969;}#sk-container-id-2 label.sk-toggleable__label-arrow:hover:before {color: black;}#sk-container-id-2 div.sk-estimator:hover label.sk-toggleable__label-arrow:before {color: black;}#sk-container-id-2 div.sk-toggleable__content {max-height: 0;max-width: 0;overflow: hidden;text-align: left;background-color: #f0f8ff;}#sk-container-id-2 div.sk-toggleable__content pre {margin: 0.2em;color: black;border-radius: 0.25em;background-color: #f0f8ff;}#sk-container-id-2 input.sk-toggleable__control:checked~div.sk-toggleable__content {max-height: 200px;max-width: 100%;overflow: auto;}#sk-container-id-2 input.sk-toggleable__control:checked~label.sk-toggleable__label-arrow:before {content: \"▾\";}#sk-container-id-2 div.sk-estimator input.sk-toggleable__control:checked~label.sk-toggleable__label {background-color: #d4ebff;}#sk-container-id-2 div.sk-label input.sk-toggleable__control:checked~label.sk-toggleable__label {background-color: #d4ebff;}#sk-container-id-2 input.sk-hidden--visually {border: 0;clip: rect(1px 1px 1px 1px);clip: rect(1px, 1px, 1px, 1px);height: 1px;margin: -1px;overflow: hidden;padding: 0;position: absolute;width: 1px;}#sk-container-id-2 div.sk-estimator {font-family: monospace;background-color: #f0f8ff;border: 1px dotted black;border-radius: 0.25em;box-sizing: border-box;margin-bottom: 0.5em;}#sk-container-id-2 div.sk-estimator:hover {background-color: #d4ebff;}#sk-container-id-2 div.sk-parallel-item::after {content: \"\";width: 100%;border-bottom: 1px solid gray;flex-grow: 1;}#sk-container-id-2 div.sk-label:hover label.sk-toggleable__label {background-color: #d4ebff;}#sk-container-id-2 div.sk-serial::before {content: \"\";position: absolute;border-left: 1px solid gray;box-sizing: border-box;top: 0;bottom: 0;left: 50%;z-index: 0;}#sk-container-id-2 div.sk-serial {display: flex;flex-direction: column;align-items: center;background-color: white;padding-right: 0.2em;padding-left: 0.2em;position: relative;}#sk-container-id-2 div.sk-item {position: relative;z-index: 1;}#sk-container-id-2 div.sk-parallel {display: flex;align-items: stretch;justify-content: center;background-color: white;position: relative;}#sk-container-id-2 div.sk-item::before, #sk-container-id-2 div.sk-parallel-item::before {content: \"\";position: absolute;border-left: 1px solid gray;box-sizing: border-box;top: 0;bottom: 0;left: 50%;z-index: -1;}#sk-container-id-2 div.sk-parallel-item {display: flex;flex-direction: column;z-index: 1;position: relative;background-color: white;}#sk-container-id-2 div.sk-parallel-item:first-child::after {align-self: flex-end;width: 50%;}#sk-container-id-2 div.sk-parallel-item:last-child::after {align-self: flex-start;width: 50%;}#sk-container-id-2 div.sk-parallel-item:only-child::after {width: 0;}#sk-container-id-2 div.sk-dashed-wrapped {border: 1px dashed gray;margin: 0 0.4em 0.5em 0.4em;box-sizing: border-box;padding-bottom: 0.4em;background-color: white;}#sk-container-id-2 div.sk-label label {font-family: monospace;font-weight: bold;display: inline-block;line-height: 1.2em;}#sk-container-id-2 div.sk-label-container {text-align: center;}#sk-container-id-2 div.sk-container {/* jupyter's `normalize.less` sets `[hidden] { display: none; }` but bootstrap.min.css set `[hidden] { display: none !important; }` so we also need the `!important` here to be able to override the default hidden behavior on the sphinx rendered scikit-learn.org. See: https://github.com/scikit-learn/scikit-learn/issues/21755 */display: inline-block !important;position: relative;}#sk-container-id-2 div.sk-text-repr-fallback {display: none;}</style><div id=\"sk-container-id-2\" class=\"sk-top-container\"><div class=\"sk-text-repr-fallback\"><pre>LogisticRegression()</pre><b>In a Jupyter environment, please rerun this cell to show the HTML representation or trust the notebook. <br />On GitHub, the HTML representation is unable to render, please try loading this page with nbviewer.org.</b></div><div class=\"sk-container\" hidden><div class=\"sk-item\"><div class=\"sk-estimator sk-toggleable\"><input class=\"sk-toggleable__control sk-hidden--visually\" id=\"sk-estimator-id-2\" type=\"checkbox\" checked><label for=\"sk-estimator-id-2\" class=\"sk-toggleable__label sk-toggleable__label-arrow\">LogisticRegression</label><div class=\"sk-toggleable__content\"><pre>LogisticRegression()</pre></div></div></div></div></div>"
            ]
          },
          "metadata": {},
          "execution_count": 25
        }
      ]
    },
    {
      "cell_type": "code",
      "source": [
        "predictions2 = log_model.predict(X2_test)"
      ],
      "metadata": {
        "id": "G1aOwWHrHvh3"
      },
      "execution_count": null,
      "outputs": []
    },
    {
      "cell_type": "code",
      "source": [
        "from sklearn.metrics import confusion_matrix\n",
        "confusion_matrix(y2_test, predictions2)"
      ],
      "metadata": {
        "colab": {
          "base_uri": "https://localhost:8080/"
        },
        "id": "IoE7r0z9Hm9A",
        "outputId": "3de6cbd7-abc4-4ae6-ae57-0b03845a3c23"
      },
      "execution_count": null,
      "outputs": [
        {
          "output_type": "execute_result",
          "data": {
            "text/plain": [
              "array([[34,  3,  1,  2],\n",
              "       [ 0, 43,  2,  3],\n",
              "       [ 0, 12, 11,  5],\n",
              "       [ 2,  9,  2, 26]])"
            ]
          },
          "metadata": {},
          "execution_count": 29
        }
      ]
    },
    {
      "cell_type": "code",
      "source": [
        "accuracy_score(y2_test, predictions2)"
      ],
      "metadata": {
        "colab": {
          "base_uri": "https://localhost:8080/"
        },
        "id": "Nvly0afZH3q4",
        "outputId": "311c0244-2704-4702-c31d-dd66b5ec27db"
      },
      "execution_count": null,
      "outputs": [
        {
          "output_type": "execute_result",
          "data": {
            "text/plain": [
              "0.7354838709677419"
            ]
          },
          "metadata": {},
          "execution_count": 30
        }
      ]
    },
    {
      "cell_type": "markdown",
      "source": [
        "**Model 3: COGS_Frac, Inventory_Assets, ATR and PPE_Assets**\n",
        "\n",
        "Repeat similar steps of Model 1 above but this time we use 4 variables which are COGS_Frac, Inventory_Assets, ATR and PPE_Assets"
      ],
      "metadata": {
        "id": "_D8QPRUwH-sE"
      }
    },
    {
      "cell_type": "code",
      "source": [
        "# Input/independent variables\n",
        "\n",
        "X3 = df[['COGS_Frac', 'Inventory_Assets', 'ATR', 'PPE_Assets']]\n",
        "\n",
        "# Output/Dependent variable (predict industry category)\n",
        "y3 = df.ind"
      ],
      "metadata": {
        "id": "xy0EIk3YH94Q"
      },
      "execution_count": null,
      "outputs": []
    },
    {
      "cell_type": "code",
      "source": [
        "# Let's check the shapes of X and y\n",
        "\n",
        "print(\"Shape: \", X3.shape, \"Dimension: \", X3.ndim)\n",
        "print(\"Shape: \", y3.shape, \"Dimension: \", y3.ndim)"
      ],
      "metadata": {
        "colab": {
          "base_uri": "https://localhost:8080/"
        },
        "id": "cXiGjXCyIP-p",
        "outputId": "53c8f1cb-e4df-46d9-e8fa-fe769cb324cc"
      },
      "execution_count": null,
      "outputs": [
        {
          "output_type": "stream",
          "name": "stdout",
          "text": [
            "Shape:  (516, 4) Dimension:  2\n",
            "Shape:  (516,) Dimension:  1\n"
          ]
        }
      ]
    },
    {
      "cell_type": "code",
      "source": [
        "# split the data\n",
        "\n",
        "X3_train, X3_test, y3_train, y3_test = train_test_split(X3,y3,test_size=0.3, random_state = 42)"
      ],
      "metadata": {
        "id": "23kdN4gfIU5t"
      },
      "execution_count": null,
      "outputs": []
    },
    {
      "cell_type": "code",
      "source": [
        "# Fit the model on the training data\n",
        "log_model.fit(X3_train, y3_train)"
      ],
      "metadata": {
        "colab": {
          "base_uri": "https://localhost:8080/",
          "height": 74
        },
        "id": "nW4wC6p9Ic9Q",
        "outputId": "5d4c42ff-2a2e-4a12-f1b9-73ffee40e9ed"
      },
      "execution_count": null,
      "outputs": [
        {
          "output_type": "execute_result",
          "data": {
            "text/plain": [
              "LogisticRegression()"
            ],
            "text/html": [
              "<style>#sk-container-id-3 {color: black;background-color: white;}#sk-container-id-3 pre{padding: 0;}#sk-container-id-3 div.sk-toggleable {background-color: white;}#sk-container-id-3 label.sk-toggleable__label {cursor: pointer;display: block;width: 100%;margin-bottom: 0;padding: 0.3em;box-sizing: border-box;text-align: center;}#sk-container-id-3 label.sk-toggleable__label-arrow:before {content: \"▸\";float: left;margin-right: 0.25em;color: #696969;}#sk-container-id-3 label.sk-toggleable__label-arrow:hover:before {color: black;}#sk-container-id-3 div.sk-estimator:hover label.sk-toggleable__label-arrow:before {color: black;}#sk-container-id-3 div.sk-toggleable__content {max-height: 0;max-width: 0;overflow: hidden;text-align: left;background-color: #f0f8ff;}#sk-container-id-3 div.sk-toggleable__content pre {margin: 0.2em;color: black;border-radius: 0.25em;background-color: #f0f8ff;}#sk-container-id-3 input.sk-toggleable__control:checked~div.sk-toggleable__content {max-height: 200px;max-width: 100%;overflow: auto;}#sk-container-id-3 input.sk-toggleable__control:checked~label.sk-toggleable__label-arrow:before {content: \"▾\";}#sk-container-id-3 div.sk-estimator input.sk-toggleable__control:checked~label.sk-toggleable__label {background-color: #d4ebff;}#sk-container-id-3 div.sk-label input.sk-toggleable__control:checked~label.sk-toggleable__label {background-color: #d4ebff;}#sk-container-id-3 input.sk-hidden--visually {border: 0;clip: rect(1px 1px 1px 1px);clip: rect(1px, 1px, 1px, 1px);height: 1px;margin: -1px;overflow: hidden;padding: 0;position: absolute;width: 1px;}#sk-container-id-3 div.sk-estimator {font-family: monospace;background-color: #f0f8ff;border: 1px dotted black;border-radius: 0.25em;box-sizing: border-box;margin-bottom: 0.5em;}#sk-container-id-3 div.sk-estimator:hover {background-color: #d4ebff;}#sk-container-id-3 div.sk-parallel-item::after {content: \"\";width: 100%;border-bottom: 1px solid gray;flex-grow: 1;}#sk-container-id-3 div.sk-label:hover label.sk-toggleable__label {background-color: #d4ebff;}#sk-container-id-3 div.sk-serial::before {content: \"\";position: absolute;border-left: 1px solid gray;box-sizing: border-box;top: 0;bottom: 0;left: 50%;z-index: 0;}#sk-container-id-3 div.sk-serial {display: flex;flex-direction: column;align-items: center;background-color: white;padding-right: 0.2em;padding-left: 0.2em;position: relative;}#sk-container-id-3 div.sk-item {position: relative;z-index: 1;}#sk-container-id-3 div.sk-parallel {display: flex;align-items: stretch;justify-content: center;background-color: white;position: relative;}#sk-container-id-3 div.sk-item::before, #sk-container-id-3 div.sk-parallel-item::before {content: \"\";position: absolute;border-left: 1px solid gray;box-sizing: border-box;top: 0;bottom: 0;left: 50%;z-index: -1;}#sk-container-id-3 div.sk-parallel-item {display: flex;flex-direction: column;z-index: 1;position: relative;background-color: white;}#sk-container-id-3 div.sk-parallel-item:first-child::after {align-self: flex-end;width: 50%;}#sk-container-id-3 div.sk-parallel-item:last-child::after {align-self: flex-start;width: 50%;}#sk-container-id-3 div.sk-parallel-item:only-child::after {width: 0;}#sk-container-id-3 div.sk-dashed-wrapped {border: 1px dashed gray;margin: 0 0.4em 0.5em 0.4em;box-sizing: border-box;padding-bottom: 0.4em;background-color: white;}#sk-container-id-3 div.sk-label label {font-family: monospace;font-weight: bold;display: inline-block;line-height: 1.2em;}#sk-container-id-3 div.sk-label-container {text-align: center;}#sk-container-id-3 div.sk-container {/* jupyter's `normalize.less` sets `[hidden] { display: none; }` but bootstrap.min.css set `[hidden] { display: none !important; }` so we also need the `!important` here to be able to override the default hidden behavior on the sphinx rendered scikit-learn.org. See: https://github.com/scikit-learn/scikit-learn/issues/21755 */display: inline-block !important;position: relative;}#sk-container-id-3 div.sk-text-repr-fallback {display: none;}</style><div id=\"sk-container-id-3\" class=\"sk-top-container\"><div class=\"sk-text-repr-fallback\"><pre>LogisticRegression()</pre><b>In a Jupyter environment, please rerun this cell to show the HTML representation or trust the notebook. <br />On GitHub, the HTML representation is unable to render, please try loading this page with nbviewer.org.</b></div><div class=\"sk-container\" hidden><div class=\"sk-item\"><div class=\"sk-estimator sk-toggleable\"><input class=\"sk-toggleable__control sk-hidden--visually\" id=\"sk-estimator-id-3\" type=\"checkbox\" checked><label for=\"sk-estimator-id-3\" class=\"sk-toggleable__label sk-toggleable__label-arrow\">LogisticRegression</label><div class=\"sk-toggleable__content\"><pre>LogisticRegression()</pre></div></div></div></div></div>"
            ]
          },
          "metadata": {},
          "execution_count": 34
        }
      ]
    },
    {
      "cell_type": "code",
      "source": [
        "predictions3 = log_model.predict(X3_test)"
      ],
      "metadata": {
        "id": "2-m5vgrpIjBe"
      },
      "execution_count": null,
      "outputs": []
    },
    {
      "cell_type": "code",
      "source": [
        "from sklearn.metrics import confusion_matrix\n",
        "confusion_matrix(y3_test, predictions3)"
      ],
      "metadata": {
        "colab": {
          "base_uri": "https://localhost:8080/"
        },
        "id": "QtwO3lUaIplu",
        "outputId": "ba9628c2-49e5-4a3b-a70b-88a2d3754599"
      },
      "execution_count": null,
      "outputs": [
        {
          "output_type": "execute_result",
          "data": {
            "text/plain": [
              "array([[34,  3,  1,  2],\n",
              "       [ 0, 43,  3,  2],\n",
              "       [ 0, 13, 11,  4],\n",
              "       [ 2,  9,  0, 28]])"
            ]
          },
          "metadata": {},
          "execution_count": 37
        }
      ]
    },
    {
      "cell_type": "code",
      "source": [
        "accuracy_score(y3_test, predictions3)"
      ],
      "metadata": {
        "colab": {
          "base_uri": "https://localhost:8080/"
        },
        "id": "ynpFZP7_Iu1X",
        "outputId": "850c85c1-e06d-4429-8bc0-b2785a2b8da6"
      },
      "execution_count": null,
      "outputs": [
        {
          "output_type": "execute_result",
          "data": {
            "text/plain": [
              "0.7483870967741936"
            ]
          },
          "metadata": {},
          "execution_count": 38
        }
      ]
    },
    {
      "cell_type": "markdown",
      "source": [
        "**Model 4: COGS_Frac, Inventory_Assets and PPE_Assets**\n",
        "\n",
        "Repeat similar steps of Model 1 above but this time we use 3 variables which are COGS_Frac, Inventory_Assets and PPE_Assets. This is because ATR appears to have mutiple outliers."
      ],
      "metadata": {
        "id": "fo5FVeoHayoT"
      }
    },
    {
      "cell_type": "code",
      "source": [
        "# Input/independent variables\n",
        "\n",
        "X4 = df[['COGS_Frac','Inventory_Assets', 'PPE_Assets']]\n",
        "\n",
        "# Output/Dependent variable (predict industry category)\n",
        "y4 = df.ind"
      ],
      "metadata": {
        "id": "TcKOy5yaa_s2"
      },
      "execution_count": null,
      "outputs": []
    },
    {
      "cell_type": "code",
      "source": [
        "# Let's check the shapes of X and y\n",
        "\n",
        "print(\"Shape: \", X4.shape, \"Dimension: \", X4.ndim)\n",
        "print(\"Shape: \", y4.shape, \"Dimension: \", y4.ndim)"
      ],
      "metadata": {
        "colab": {
          "base_uri": "https://localhost:8080/"
        },
        "id": "QZU4jioTbGaO",
        "outputId": "fa3598c8-7a54-4cfa-b0cd-b6781af4fac3"
      },
      "execution_count": null,
      "outputs": [
        {
          "output_type": "stream",
          "name": "stdout",
          "text": [
            "Shape:  (516, 3) Dimension:  2\n",
            "Shape:  (516,) Dimension:  1\n"
          ]
        }
      ]
    },
    {
      "cell_type": "code",
      "source": [
        "# split the data\n",
        "\n",
        "X4_train, X4_test, y4_train, y4_test = train_test_split(X4,y4,test_size=0.3, random_state = 42)"
      ],
      "metadata": {
        "id": "qOIacJ--bL97"
      },
      "execution_count": null,
      "outputs": []
    },
    {
      "cell_type": "code",
      "source": [
        "# Fit the model on the training data\n",
        "log_model.fit(X4_train, y4_train)"
      ],
      "metadata": {
        "colab": {
          "base_uri": "https://localhost:8080/",
          "height": 74
        },
        "id": "wU_52wsObS4y",
        "outputId": "57222041-a805-44b9-a23a-1689d3498972"
      },
      "execution_count": null,
      "outputs": [
        {
          "output_type": "execute_result",
          "data": {
            "text/plain": [
              "LogisticRegression()"
            ],
            "text/html": [
              "<style>#sk-container-id-6 {color: black;background-color: white;}#sk-container-id-6 pre{padding: 0;}#sk-container-id-6 div.sk-toggleable {background-color: white;}#sk-container-id-6 label.sk-toggleable__label {cursor: pointer;display: block;width: 100%;margin-bottom: 0;padding: 0.3em;box-sizing: border-box;text-align: center;}#sk-container-id-6 label.sk-toggleable__label-arrow:before {content: \"▸\";float: left;margin-right: 0.25em;color: #696969;}#sk-container-id-6 label.sk-toggleable__label-arrow:hover:before {color: black;}#sk-container-id-6 div.sk-estimator:hover label.sk-toggleable__label-arrow:before {color: black;}#sk-container-id-6 div.sk-toggleable__content {max-height: 0;max-width: 0;overflow: hidden;text-align: left;background-color: #f0f8ff;}#sk-container-id-6 div.sk-toggleable__content pre {margin: 0.2em;color: black;border-radius: 0.25em;background-color: #f0f8ff;}#sk-container-id-6 input.sk-toggleable__control:checked~div.sk-toggleable__content {max-height: 200px;max-width: 100%;overflow: auto;}#sk-container-id-6 input.sk-toggleable__control:checked~label.sk-toggleable__label-arrow:before {content: \"▾\";}#sk-container-id-6 div.sk-estimator input.sk-toggleable__control:checked~label.sk-toggleable__label {background-color: #d4ebff;}#sk-container-id-6 div.sk-label input.sk-toggleable__control:checked~label.sk-toggleable__label {background-color: #d4ebff;}#sk-container-id-6 input.sk-hidden--visually {border: 0;clip: rect(1px 1px 1px 1px);clip: rect(1px, 1px, 1px, 1px);height: 1px;margin: -1px;overflow: hidden;padding: 0;position: absolute;width: 1px;}#sk-container-id-6 div.sk-estimator {font-family: monospace;background-color: #f0f8ff;border: 1px dotted black;border-radius: 0.25em;box-sizing: border-box;margin-bottom: 0.5em;}#sk-container-id-6 div.sk-estimator:hover {background-color: #d4ebff;}#sk-container-id-6 div.sk-parallel-item::after {content: \"\";width: 100%;border-bottom: 1px solid gray;flex-grow: 1;}#sk-container-id-6 div.sk-label:hover label.sk-toggleable__label {background-color: #d4ebff;}#sk-container-id-6 div.sk-serial::before {content: \"\";position: absolute;border-left: 1px solid gray;box-sizing: border-box;top: 0;bottom: 0;left: 50%;z-index: 0;}#sk-container-id-6 div.sk-serial {display: flex;flex-direction: column;align-items: center;background-color: white;padding-right: 0.2em;padding-left: 0.2em;position: relative;}#sk-container-id-6 div.sk-item {position: relative;z-index: 1;}#sk-container-id-6 div.sk-parallel {display: flex;align-items: stretch;justify-content: center;background-color: white;position: relative;}#sk-container-id-6 div.sk-item::before, #sk-container-id-6 div.sk-parallel-item::before {content: \"\";position: absolute;border-left: 1px solid gray;box-sizing: border-box;top: 0;bottom: 0;left: 50%;z-index: -1;}#sk-container-id-6 div.sk-parallel-item {display: flex;flex-direction: column;z-index: 1;position: relative;background-color: white;}#sk-container-id-6 div.sk-parallel-item:first-child::after {align-self: flex-end;width: 50%;}#sk-container-id-6 div.sk-parallel-item:last-child::after {align-self: flex-start;width: 50%;}#sk-container-id-6 div.sk-parallel-item:only-child::after {width: 0;}#sk-container-id-6 div.sk-dashed-wrapped {border: 1px dashed gray;margin: 0 0.4em 0.5em 0.4em;box-sizing: border-box;padding-bottom: 0.4em;background-color: white;}#sk-container-id-6 div.sk-label label {font-family: monospace;font-weight: bold;display: inline-block;line-height: 1.2em;}#sk-container-id-6 div.sk-label-container {text-align: center;}#sk-container-id-6 div.sk-container {/* jupyter's `normalize.less` sets `[hidden] { display: none; }` but bootstrap.min.css set `[hidden] { display: none !important; }` so we also need the `!important` here to be able to override the default hidden behavior on the sphinx rendered scikit-learn.org. See: https://github.com/scikit-learn/scikit-learn/issues/21755 */display: inline-block !important;position: relative;}#sk-container-id-6 div.sk-text-repr-fallback {display: none;}</style><div id=\"sk-container-id-6\" class=\"sk-top-container\"><div class=\"sk-text-repr-fallback\"><pre>LogisticRegression()</pre><b>In a Jupyter environment, please rerun this cell to show the HTML representation or trust the notebook. <br />On GitHub, the HTML representation is unable to render, please try loading this page with nbviewer.org.</b></div><div class=\"sk-container\" hidden><div class=\"sk-item\"><div class=\"sk-estimator sk-toggleable\"><input class=\"sk-toggleable__control sk-hidden--visually\" id=\"sk-estimator-id-6\" type=\"checkbox\" checked><label for=\"sk-estimator-id-6\" class=\"sk-toggleable__label sk-toggleable__label-arrow\">LogisticRegression</label><div class=\"sk-toggleable__content\"><pre>LogisticRegression()</pre></div></div></div></div></div>"
            ]
          },
          "metadata": {},
          "execution_count": 72
        }
      ]
    },
    {
      "cell_type": "code",
      "source": [
        "predictions4 = log_model.predict(X4_test)"
      ],
      "metadata": {
        "id": "QMUS34LDbYLl"
      },
      "execution_count": null,
      "outputs": []
    },
    {
      "cell_type": "code",
      "source": [
        "from sklearn.metrics import confusion_matrix\n",
        "confusion_matrix(y4_test, predictions4)"
      ],
      "metadata": {
        "colab": {
          "base_uri": "https://localhost:8080/"
        },
        "id": "Xto3WPqXbcqP",
        "outputId": "d4c6a4b7-9641-4677-cc1e-4490cd4eda8d"
      },
      "execution_count": null,
      "outputs": [
        {
          "output_type": "execute_result",
          "data": {
            "text/plain": [
              "array([[32,  4,  2,  2],\n",
              "       [ 1, 43,  2,  2],\n",
              "       [ 3, 18,  1,  6],\n",
              "       [ 2,  9,  0, 28]])"
            ]
          },
          "metadata": {},
          "execution_count": 74
        }
      ]
    },
    {
      "cell_type": "code",
      "source": [
        "accuracy_score(y4_test, predictions4)"
      ],
      "metadata": {
        "colab": {
          "base_uri": "https://localhost:8080/"
        },
        "id": "j9Tk0YmnbhTk",
        "outputId": "ef76db04-84d5-4bfc-9242-9543778aff85"
      },
      "execution_count": null,
      "outputs": [
        {
          "output_type": "execute_result",
          "data": {
            "text/plain": [
              "0.6709677419354839"
            ]
          },
          "metadata": {},
          "execution_count": 76
        }
      ]
    },
    {
      "cell_type": "markdown",
      "source": [
        "As presented above, four models were constructed and rigorously tested. Among these models, Model 2 emerges as the most promising candidate, employing three predictive variables—COGS, PPE, and ATR. Model 2 achieves an impressive accuracy rate of 74%, while maintaining simplicity through the utilization of a small number of variables. Conversely, the remaining models either demonstrate lower accuracy rates (Model 1 and 4) or exhibit increased complexity (Model 3, which incorporates four variables)."
      ],
      "metadata": {
        "id": "1UzE4xQah5Iz"
      }
    }
  ]
}